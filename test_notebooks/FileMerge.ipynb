{
 "cells": [
  {
   "cell_type": "code",
   "execution_count": 1,
   "metadata": {},
   "outputs": [],
   "source": [
    "import cv2\n",
    "import numpy as np\n",
    "import time"
   ]
  },
  {
   "cell_type": "code",
   "execution_count": 2,
   "metadata": {},
   "outputs": [],
   "source": [
    "cap1=cv2.VideoCapture('Webcam-1.avi')\n",
    "cap2=cv2.VideoCapture('Webcam-2.avi')\n",
    "cap3=cv2.VideoCapture('Webcam-3.avi')\n",
    "cap4=cv2.VideoCapture('Webcam-4.avi')"
   ]
  },
  {
   "cell_type": "code",
   "execution_count": 3,
   "metadata": {},
   "outputs": [],
   "source": [
    "output_path='.'"
   ]
  },
  {
   "cell_type": "code",
   "execution_count": 4,
   "metadata": {},
   "outputs": [],
   "source": [
    "video_format='avi'\n",
    "fourcc='DIVX'\n",
    "fps=30"
   ]
  },
  {
   "cell_type": "code",
   "execution_count": 5,
   "metadata": {},
   "outputs": [
    {
     "name": "stdout",
     "output_type": "stream",
     "text": [
      "1843200\n",
      "breaking False False False False\n"
     ]
    }
   ],
   "source": [
    "video_filename = f\"{output_path}/combined.{video_format}\"\n",
    "video_writer_fourcc = cv2.VideoWriter_fourcc(*fourcc)\n",
    "video_writer = cv2.VideoWriter(video_filename, video_writer_fourcc, fps, (960,640))\n",
    "    \n",
    "while True:\n",
    "    result=True\n",
    "    ret1, frame1 = cap1.read()\n",
    "    ret2, frame2 = cap2.read()    \n",
    "    ret3, frame3 = cap3.read()    \n",
    "    ret4, frame4 = cap4.read()    \n",
    "    \n",
    "    result = ret1&ret2&ret3&ret4\n",
    "    if not result:\n",
    "        print(combined.size)\n",
    "        print('breaking',ret1,ret2,ret3,ret4)\n",
    "        break\n",
    "        \n",
    "    v1 = np.vstack((frame1,frame2))\n",
    "    v2 = np.vstack((frame3,frame4))\n",
    "    combined= np.hstack((v1,v2))\n",
    "    video_writer.write(combined)\n",
    "    \n",
    "video_writer.release()\n",
    "cap1.release()\n",
    "cap2.release()\n",
    "cap3.release()\n",
    "cap4.release()"
   ]
  },
  {
   "cell_type": "code",
   "execution_count": null,
   "metadata": {},
   "outputs": [],
   "source": []
  }
 ],
 "metadata": {
  "kernelspec": {
   "display_name": "Python 3",
   "language": "python",
   "name": "python3"
  },
  "language_info": {
   "codemirror_mode": {
    "name": "ipython",
    "version": 3
   },
   "file_extension": ".py",
   "mimetype": "text/x-python",
   "name": "python",
   "nbconvert_exporter": "python",
   "pygments_lexer": "ipython3",
   "version": "3.8.5"
  }
 },
 "nbformat": 4,
 "nbformat_minor": 4
}
