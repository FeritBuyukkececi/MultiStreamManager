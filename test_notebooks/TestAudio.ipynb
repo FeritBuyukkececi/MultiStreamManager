{
 "cells": [
  {
   "cell_type": "code",
   "execution_count": 1,
   "metadata": {},
   "outputs": [],
   "source": [
    "%config Completer.use_jedi = False\n",
    "%load_ext autoreload\n",
    "%autoreload 2"
   ]
  },
  {
   "cell_type": "code",
   "execution_count": 2,
   "metadata": {},
   "outputs": [],
   "source": [
    "import os\n",
    "os.chdir('../')"
   ]
  },
  {
   "cell_type": "code",
   "execution_count": 3,
   "metadata": {},
   "outputs": [],
   "source": [
    "import pyaudio\n",
    "import wave\n",
    "import threading\n",
    "import time\n",
    "import os\n",
    "import datetime"
   ]
  },
  {
   "cell_type": "code",
   "execution_count": 4,
   "metadata": {},
   "outputs": [],
   "source": [
    "class Audio():\n",
    "    \n",
    "    def __init__(self,stream_name,bitrate,frames_per_buffer,channels):\n",
    "        self.name=stream_name\n",
    "        self.bitrate=bitrate\n",
    "        self.frames_per_buffer=frames_per_buffer\n",
    "        self.channels=channels\n",
    "        self.audio_format=pyaudio.paInt16\n",
    "        self.is_running=False\n",
    "        self.is_recording=False\n",
    "        \n",
    "    def start(self):\n",
    "        if self.is_running:\n",
    "            return\n",
    "        self.is_running=True\n",
    "        self.audio_filename = f\"{self.name}.wav\"\n",
    "        self.audio = pyaudio.PyAudio()\n",
    "        self.stream = self.audio.open(format=self.audio_format,\n",
    "                                      channels=self.channels,\n",
    "                                      rate=self.bitrate,\n",
    "                                      input=True,\n",
    "                                      frames_per_buffer = self.frames_per_buffer)\n",
    "        self.stream.start_stream()\n",
    "        self.audio_frames = []\n",
    "\n",
    "    def start_recording(self,output_path):\n",
    "        if self.is_recording:\n",
    "            return\n",
    "        self.output_path=output_path\n",
    "        if not os.path.isdir(output_path):\n",
    "            os.mkdir(output_path)\n",
    "        self.output_path=output_path\n",
    "        self.record_start_time = time.time()\n",
    "        self.is_recording=True\n",
    "        self.record_thread = threading.Thread(target=self.run_record, args=())\n",
    "        self.record_thread.daemon = True\n",
    "        self.record_thread.start()      \n",
    "\n",
    "    def run_record(self):\n",
    "        while self.is_recording:\n",
    "            try:\n",
    "                data = self.stream.read(self.frames_per_buffer) \n",
    "                self.audio_frames.append(data)\n",
    "            except:\n",
    "                pass       \n",
    "            \n",
    "    def stop_recording(self):\n",
    "        if not self.is_recording:\n",
    "            return\n",
    "        self.is_recording=False\n",
    "        self.record_end_time=time.time()\n",
    "        self.record_thread.join()  \n",
    "        print('Audio record thread ended')\n",
    "        \n",
    "        print('Saving audio file')\n",
    "        waveFile = wave.open(self.output_path+'/'+self.audio_filename, 'wb')\n",
    "        waveFile.setnchannels(self.channels)\n",
    "        waveFile.setsampwidth(self.audio.get_sample_size(self.audio_format))\n",
    "        waveFile.setframerate(self.bitrate)\n",
    "        waveFile.writeframes(b''.join(self.audio_frames))\n",
    "        waveFile.close()\n",
    "        print('closed audio file')\n",
    "        \n",
    "    # Finishes the audio recording therefore the thread too    \n",
    "    def stop(self):\n",
    "        self.stop_recording()\n",
    "        self.is_running=False\n",
    "        \n",
    "        self.stream.stop_stream()\n",
    "        self.stream.close()\n",
    "        self.audio.terminate()\n",
    "        "
   ]
  },
  {
   "cell_type": "code",
   "execution_count": 10,
   "metadata": {},
   "outputs": [],
   "source": [
    "audio=Audio('Microphone',bitrate=44100,frames_per_buffer=1024,channels=2)"
   ]
  },
  {
   "cell_type": "code",
   "execution_count": 11,
   "metadata": {},
   "outputs": [],
   "source": [
    "audio.start()"
   ]
  },
  {
   "cell_type": "code",
   "execution_count": 12,
   "metadata": {},
   "outputs": [],
   "source": [
    "audio.start_recording('output')"
   ]
  },
  {
   "cell_type": "code",
   "execution_count": 13,
   "metadata": {},
   "outputs": [
    {
     "name": "stdout",
     "output_type": "stream",
     "text": [
      "Audio record thread ended\n",
      "Saving audio file\n",
      "closed audio file\n"
     ]
    }
   ],
   "source": [
    "audio.stop_recording()"
   ]
  },
  {
   "cell_type": "code",
   "execution_count": 9,
   "metadata": {},
   "outputs": [],
   "source": [
    "audio.stop()"
   ]
  },
  {
   "cell_type": "code",
   "execution_count": null,
   "metadata": {},
   "outputs": [],
   "source": []
  }
 ],
 "metadata": {
  "kernelspec": {
   "display_name": "Python 3",
   "language": "python",
   "name": "python3"
  },
  "language_info": {
   "codemirror_mode": {
    "name": "ipython",
    "version": 3
   },
   "file_extension": ".py",
   "mimetype": "text/x-python",
   "name": "python",
   "nbconvert_exporter": "python",
   "pygments_lexer": "ipython3",
   "version": "3.8.5"
  }
 },
 "nbformat": 4,
 "nbformat_minor": 4
}
